{
 "cells": [
  {
   "cell_type": "markdown",
   "metadata": {},
   "source": [
    "# Introduction to Python and Natural Language Technologies\n",
    "\n",
    "__Lecture 01-1, Overview__\n",
    "\n",
    "__Sept 09, 2020__\n",
    "\n",
    "__Judit Ács__"
   ]
  },
  {
   "cell_type": "markdown",
   "metadata": {},
   "source": [
    "# About this course\n",
    "\n",
    "All classes are held online.\n",
    "\n",
    "Lectures every Wednesday 12:15 PM.\n",
    "\n",
    "Laboratories in two groups:\n",
    "1. Thursday 12:15 PM. Instructor: Kinga Gémes\n",
    "1. Thursday 16:15 PM. Instructor: Ádám Kovács\n",
    "\n",
    "Parts of the course:\n",
    "1. Python from Week 1 to Week 6\n",
    "2. Data mangling on Week 7\n",
    "3. Deep learning in NLP from Week 8 to Week 13\n",
    "4. Homework presentations on Week 14\n",
    "\n",
    "[Website](https://python-nlp.github.io/index.html)\n",
    "\n",
    "[Github repository](https://github.com/bmeaut/python_nlp_2020_fall)"
   ]
  },
  {
   "cell_type": "markdown",
   "metadata": {},
   "source": [
    "# Instructors\n",
    "\n",
    "__Judit Ács__\n",
    "![](img/judit.jpg)\n",
    "\n",
    "__Ádám Kovács__\n",
    "![](img/adam.jpg)\n",
    "\n",
    "__Kinga Gémes__\n",
    "![](img/kinga.jpg)"
   ]
  },
  {
   "cell_type": "markdown",
   "metadata": {},
   "source": [
    "# Requirements\n",
    "\n",
    "- Online attendance is recommended.\n",
    "- Lab attendance is replaced by 10 small homeworks.\n",
    "- This course is in English.\n",
    "    - We use English on Teams.\n",
    "    - Homeworks (variable names too).\n",
    "    - Final project presentation.\n",
    "    - Your final project documentation should be written in __good__ English."
   ]
  },
  {
   "cell_type": "markdown",
   "metadata": {},
   "source": [
    "# Lectures\n",
    "\n",
    "- All lectures are one or more Jupyter notebooks like this one.\n",
    "- We release a pre-lecture version shortly before the lecture.\n",
    "    - In practice this is pushed to the [Github repository](https://github.com/bmeaut/python_nlp_2020_fall) which you should pull before the lecture.\n",
    "    - You can follow it on your own computer or you can watch the lecturer share their screen.\n",
    "        - If you have two screens, we recommend having both simultaneously.\n",
    "    - You are encouraged to modify it during class.\n",
    "    - You can ask questions during the lecture and the lecturer will often incorporate the answer into the notebook.\n",
    "    - We release a post-lecture version after the lecture under a different name (`*-post-lecture.ipynb`) so there will be no git conflicts.\n",
    "        - This version will run without exceptions.\n",
    "    - We welcome feedback. An Errata (collection of errors) will be maintained and we update the post-lecture versions."
   ]
  },
  {
   "cell_type": "markdown",
   "metadata": {},
   "source": [
    "# Labs\n",
    "\n",
    "- Labs are notebooks as well.\n",
    "- We solve a few tasks together.\n",
    "- You need to work on the rest alone.\n",
    "- We provide one-on-one consultation during the lab time.\n",
    "    1. Try to figure out the task alone first. Request a one-on-one in the group chat with the instructor if you're stuck.\n",
    "    1. Wait for the instructor to reach out. This will be done in a manual FIFO.\n",
    "    1. Be prepared to take the call and share your screen."
   ]
  },
  {
   "cell_type": "markdown",
   "metadata": {},
   "source": [
    "# Homeworks\n",
    "\n",
    "- The first homework is canceled.\n",
    "- Lab notebooks have been turned into 10 small homeworks \n",
    "    - We will start working on them during the labs.\n",
    "    - Two level grading:\n",
    "        1. Passing level: should roughly fit into 90 minutes work.\n",
    "        2. Extra level: close to completion.\n",
    "    - The deadline is Sunday 23:59.\n",
    "    - Submission handled through Github Classroom.\n",
    "        - Need a Github account.\n",
    "    - You are required to pass 7 out of the 10.\n",
    "    - There will be tests but passing all tests does not mean you have a perfect homework."
   ]
  },
  {
   "cell_type": "markdown",
   "metadata": {},
   "source": [
    "# Final project\n",
    "\n",
    "- Group (2-3 people) or individual.\n",
    "- You are required to implement, train and evaluate a deep neural model on a task involving natural language.\n",
    "- A project proposal has to be submitted until __Week 9__ but we recommend starting sooner.\n",
    "- The proposal is finalized until __Week 10__.\n",
    "- Optional: You can present a baseline until __Week 12__ for extra points.\n",
    "- Final presentation on __Week 14__.\n",
    "- An English documentation is required along with the submission.\n",
    "    - Academic style paper.\n",
    "    - We recommend using LateX in Overleaf using the [EMNLP 2020 template](https://www.overleaf.com/latex/templates/emnlp-2020/knvtcxwzhbbz).\n",
    "    - 1-4 pages, please be concise.\n",
    "- Blog post for extra points."
   ]
  },
  {
   "cell_type": "markdown",
   "metadata": {},
   "source": [
    "# Grading\n",
    "\n",
    "## Minimal requirements\n",
    "\n",
    "- Passing level on at least 7 out of 10 labs.\n",
    "- Final project acceptance (code+presentation+documentation).\n",
    "- Oral exam.\n",
    "    1. NLP topic: main topic, determines most of the grade.\n",
    "    1. Python topic: need to pass, but only affects the NLP grade by $\\pm$1.\n",
    "    \n",
    "## Projected grade\n",
    "\n",
    "- Students who perform well during the semester may be offered a grade 5 or 4 and do not have to take the final exam.\n",
    "\n",
    "- Grade 5 minimal requirements\n",
    "    - __Extra level__ on 8 out of 10 labs for grade 5.\n",
    "    - Excellent final project.\n",
    "    \n",
    "- Grade 4 minimal requirements\n",
    "    - __Extra level__ on 5 out of 10 labs for grade 5.\n",
    "    - Good final project.\n",
    "    \n",
    "- Good to have\n",
    "    - Blog post about your final project.\n",
    "    - Being active during classes.\n",
    "    - Helping others on Teams.\n",
    "    - Presenting a baseline on __Week 12__.\n",
    "    - Contributing to the Errata (list of mistakes in the lectures/labs)."
   ]
  },
  {
   "cell_type": "markdown",
   "metadata": {},
   "source": [
    "# Technical setup\n",
    "\n",
    "- All lectures and labs are Jupyter notebooks.\n",
    "- The [Anaconda distribution](https://docs.anaconda.com/anaconda/install/) contains almost all dependencies.\n",
    "- Alternatively you can install them one-by-one using [Miniconda](https://docs.anaconda.com/anaconda/install/)\n",
    "- Jupyter [extensions](https://jupyter-contrib-nbextensions.readthedocs.io/en/latest/install.html)\n",
    "    - Table of Contents (main/toc2)\n",
    "    - I use [VIM bindings](https://github.com/lambdalisue/jupyter-vim-binding)\n",
    "- We will provide a Docker for the NLP part.\n",
    "- GPU resources are TBA.\n",
    "\n",
    "## Sidenote\n",
    "\n",
    "- Deep learning is used almost exclusively in a Linux environment.\n",
    "- You need to be comfortable using the command line if you are serious about deep learning and NLP.\n",
    "- Most NLP and deep learning libraries have better support for Linux and MacOS than Windows.\n",
    "- Most papers nowadays release the source code for their experiments with Linux support only."
   ]
  },
  {
   "cell_type": "markdown",
   "metadata": {},
   "source": [
    "# Microsoft Teams\n",
    "\n",
    "- Ask your questions in the public channel.\n",
    "- Questions asked in private may be redirected to the publish channel.\n",
    "- Feel free to answer questions asked by others.\n",
    "- Extra points for the most active users."
   ]
  },
  {
   "cell_type": "code",
   "execution_count": null,
   "metadata": {},
   "outputs": [],
   "source": []
  }
 ],
 "metadata": {
  "kernelspec": {
   "display_name": "Python 3",
   "language": "python",
   "name": "python3"
  },
  "language_info": {
   "codemirror_mode": {
    "name": "ipython",
    "version": 3
   },
   "file_extension": ".py",
   "mimetype": "text/x-python",
   "name": "python",
   "nbconvert_exporter": "python",
   "pygments_lexer": "ipython3",
   "version": "3.7.6"
  },
  "toc": {
   "base_numbering": 1,
   "nav_menu": {},
   "number_sections": true,
   "sideBar": true,
   "skip_h1_title": false,
   "title_cell": "Table of Contents",
   "title_sidebar": "Contents",
   "toc_cell": false,
   "toc_position": {},
   "toc_section_display": true,
   "toc_window_display": true
  }
 },
 "nbformat": 4,
 "nbformat_minor": 4
}
