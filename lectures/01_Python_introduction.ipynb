{
 "cells": [
  {
   "cell_type": "markdown",
   "metadata": {
    "slideshow": {
     "slide_type": "slide"
    }
   },
   "source": [
    "# Introduction to Python and Natural Language Technologies\n",
    "\n",
    "__Lecture 01-2, Introduction to Python__\n",
    "\n",
    "__Sept 09, 2020__\n",
    "\n",
    "__Judit Ács__"
   ]
  },
  {
   "cell_type": "markdown",
   "metadata": {
    "slideshow": {
     "slide_type": "slide"
    }
   },
   "source": [
    "# About this part of the course\n",
    "\n",
    "## Goal\n",
    "\n",
    "- upper intermediate level Python\n",
    "- will cover some advanced concepts\n",
    "- focus on string manipulation"
   ]
  },
  {
   "cell_type": "markdown",
   "metadata": {
    "slideshow": {
     "slide_type": "subslide"
    }
   },
   "source": [
    "## Prerequisites\n",
    "\n",
    "- intermediate level in at least one object oriented programming language\n",
    "- must know: _class, instance, method, operator overloading, basic IO handling_\n",
    "- good to know: _static method, property, mutability, garbage collection_"
   ]
  },
  {
   "cell_type": "markdown",
   "metadata": {
    "slideshow": {
     "slide_type": "subslide"
    }
   },
   "source": [
    "## Links to course material\n",
    "\n",
    "[Official website](https://python-nlp.github.io/)\n",
    "\n",
    "[Official Github repository](https://github.com/bmeaut/python_nlp_2020_fall)"
   ]
  },
  {
   "cell_type": "markdown",
   "metadata": {
    "slideshow": {
     "slide_type": "slide"
    }
   },
   "source": [
    "# Jupyter\n",
    "\n",
    "- Jupyter - formally known as IPython Notebook is a web application that allows you to create and share documents with live code, equations, visualizations etc.\n",
    "- Jupyter notebooks are JSON files with the extension `.ipynb`\n",
    "- Can be converted to HTML, PDF, LateX etc.\n",
    "- Can render images, tables, graphs, LateX equations\n",
    "- Large number of extensions called 'nbextensions'\n",
    "  - `jupyter-vim-binding` is used in this lecture\n",
    "\n",
    "- Content is organized into cells"
   ]
  },
  {
   "cell_type": "markdown",
   "metadata": {
    "slideshow": {
     "slide_type": "slide"
    }
   },
   "source": [
    "## Cell types\n",
    "\n",
    "\n",
    "1. code cell: Python/R/Lua/etc. code\n",
    "2. raw cell: raw text\n",
    "3. markdown cell: formatted text using Markdown"
   ]
  },
  {
   "cell_type": "markdown",
   "metadata": {
    "slideshow": {
     "slide_type": "subslide"
    }
   },
   "source": [
    "## Code cell"
   ]
  },
  {
   "cell_type": "code",
   "execution_count": null,
   "metadata": {},
   "outputs": [],
   "source": [
    "print(\"Hello world\")"
   ]
  },
  {
   "cell_type": "markdown",
   "metadata": {
    "slideshow": {
     "slide_type": "subslide"
    }
   },
   "source": [
    "The last command's output is displayed"
   ]
  },
  {
   "cell_type": "code",
   "execution_count": null,
   "metadata": {},
   "outputs": [],
   "source": [
    "2 + 3\n",
    "3 + 4"
   ]
  },
  {
   "cell_type": "markdown",
   "metadata": {
    "slideshow": {
     "slide_type": "subslide"
    }
   },
   "source": [
    "This can be a tuple of multiple values"
   ]
  },
  {
   "cell_type": "code",
   "execution_count": null,
   "metadata": {},
   "outputs": [],
   "source": [
    "2 + 3, 3 + 4, \"hello \" + \"world\""
   ]
  },
  {
   "cell_type": "markdown",
   "metadata": {
    "slideshow": {
     "slide_type": "subslide"
    }
   },
   "source": [
    "## Markdown cell\n",
    "\n",
    "**This is in bold**\n",
    "\n",
    "*This is in italics*\n",
    "\n",
    "| This | is |\n",
    "| --- | --- |\n",
    "| a | table |\n",
    "\n",
    "and this is a pretty LateX equation:\n",
    "\n",
    "$$\n",
    "\\mathbf{E}\\cdot\\mathrm{d}\\mathbf{S} = \\frac{1}{\\varepsilon_0} \\iiint_\\Omega \\rho \\,\\mathrm{d}V\n",
    "$$"
   ]
  },
  {
   "cell_type": "markdown",
   "metadata": {
    "slideshow": {
     "slide_type": "slide"
    }
   },
   "source": [
    "## Using Jupyter\n",
    "\n",
    "### Command mode and edit mode\n",
    "\n",
    "Jupyter has two modes: command mode and edit mode\n",
    "\n",
    "1. Command mode: perform non-edit operations on selected cells (can select more than one cell)\n",
    "  - Selected cells are marked blue\n",
    "2. Edit mode: edit a single cell\n",
    "  - The cell being edited is marked green"
   ]
  },
  {
   "cell_type": "markdown",
   "metadata": {
    "slideshow": {
     "slide_type": "subslide"
    }
   },
   "source": [
    "### Switching between modes\n",
    "\n",
    "1. Esc: Edit mode -> Command mode\n",
    "2. Enter or double click: Command mode -> Edit mode"
   ]
  },
  {
   "cell_type": "markdown",
   "metadata": {
    "slideshow": {
     "slide_type": "slide"
    }
   },
   "source": [
    "### Running cells\n",
    "\n",
    "1. Ctrl + Enter: run cell\n",
    "2. Shift + Enter: run cell and select next cell\n",
    "3. Alt + Enter: run cell and insert new cell below"
   ]
  },
  {
   "cell_type": "markdown",
   "metadata": {},
   "source": [
    "## User input\n",
    "\n",
    "Jupyter has a widget for the built-in `input` function. This __halts__ the execution until some input is provided. Note the * in place of the execution counter:"
   ]
  },
  {
   "cell_type": "code",
   "execution_count": null,
   "metadata": {},
   "outputs": [],
   "source": [
    "input(\"Please input something: \")"
   ]
  },
  {
   "cell_type": "markdown",
   "metadata": {
    "slideshow": {
     "slide_type": "slide"
    }
   },
   "source": [
    "## Cell magic\n",
    "\n",
    "Special commands can modify a single cell's behavior, for example"
   ]
  },
  {
   "cell_type": "code",
   "execution_count": null,
   "metadata": {},
   "outputs": [],
   "source": [
    "%%time\n",
    "\n",
    "for x in range(1000000):\n",
    "    pass"
   ]
  },
  {
   "cell_type": "code",
   "execution_count": null,
   "metadata": {},
   "outputs": [],
   "source": [
    "%%timeit\n",
    "\n",
    "x = 2"
   ]
  },
  {
   "cell_type": "code",
   "execution_count": null,
   "metadata": {
    "slideshow": {
     "slide_type": "subslide"
    }
   },
   "outputs": [],
   "source": [
    "%%writefile hello.py\n",
    "\n",
    "print(\"Hello world from BME\")"
   ]
  },
  {
   "cell_type": "markdown",
   "metadata": {
    "slideshow": {
     "slide_type": "subslide"
    }
   },
   "source": [
    "For a complete list of magic commands:"
   ]
  },
  {
   "cell_type": "code",
   "execution_count": null,
   "metadata": {},
   "outputs": [],
   "source": [
    "%lsmagic"
   ]
  },
  {
   "cell_type": "markdown",
   "metadata": {
    "slideshow": {
     "slide_type": "slide"
    }
   },
   "source": [
    "## Under the hood\n",
    "\n",
    "- Each notebook is run by its own _Kernel_ (Python interpreter)\n",
    "  - The kernel can interrupted or restarted through the Kernel menu\n",
    "  - **Always** run `Kernel -> Restart & Run All` before submitting homework to make sure that your notebook behaves as expected\n",
    "- All cells share a single namespace"
   ]
  },
  {
   "cell_type": "code",
   "execution_count": null,
   "metadata": {},
   "outputs": [],
   "source": [
    "my_name = 12"
   ]
  },
  {
   "cell_type": "code",
   "execution_count": null,
   "metadata": {},
   "outputs": [],
   "source": [
    "my_name + 1"
   ]
  },
  {
   "cell_type": "markdown",
   "metadata": {},
   "source": [
    "Cells can be run in arbitrary order, execution count is helpful"
   ]
  },
  {
   "cell_type": "code",
   "execution_count": null,
   "metadata": {
    "slideshow": {
     "slide_type": "subslide"
    }
   },
   "outputs": [],
   "source": [
    "print(\"this is run first\")"
   ]
  },
  {
   "cell_type": "code",
   "execution_count": null,
   "metadata": {},
   "outputs": [],
   "source": [
    "print(\"this is run afterwords. Note the execution count on the left.\")"
   ]
  },
  {
   "cell_type": "markdown",
   "metadata": {
    "slideshow": {
     "slide_type": "slide"
    }
   },
   "source": [
    "# The Python programming language"
   ]
  },
  {
   "cell_type": "markdown",
   "metadata": {
    "slideshow": {
     "slide_type": "slide"
    }
   },
   "source": [
    "## History of Python\n",
    "\n",
    "\n",
    "- Python started as a hobby project of Dutch programmer, Guido van Rossum in 1989.\n",
    "- Python 1.0 in 1994\n",
    "- Python 2.0 in 2000\n",
    "  - Cycle-detecting garbage collector\n",
    "  - Unicode support\n",
    "- Python 3.0 in 2008\n",
    "  - Backward incompatible\n",
    "- Python2 End-of-Life (EOL) date was postponed from 2015 to 2020"
   ]
  },
  {
   "cell_type": "markdown",
   "metadata": {
    "collapsed": true,
    "slideshow": {
     "slide_type": "subslide"
    }
   },
   "source": [
    "## Guido van Rossum, <s>Benevolent Dictator for Life</s> Stepped down in 2018\n",
    " \n",
    "Guido van Rossum at OSCON 2006. by\n",
    "[Doc Searls](https://www.flickr.com/photos/docsearls/)\n",
    "licensed under [CC BY 2.0](https://creativecommons.org/licenses/by/2.0/)\n",
    " <img width=\"400\" alt=\"portfolio_view\" src=\"https://upload.wikimedia.org/wikipedia/commons/6/66/Guido_van_Rossum_OSCON_2006.jpg\">"
   ]
  },
  {
   "cell_type": "markdown",
   "metadata": {
    "collapsed": true,
    "slideshow": {
     "slide_type": "slide"
    }
   },
   "source": [
    "## Python community and development\n",
    "\n",
    "- Python Software Foundation nonprofit organization based in Delaware, US\n",
    "- Managed through PEPs (Python Enhancement Proposal)\n",
    "    - Public discussion for example [PEP 3000 about Python 3.0](https://www.python.org/dev/peps/pep-3000/)\n",
    "- Strong community inclusion\n",
    "- Large standard library\n",
    "- Very large third-party module repository called PyPI (Python Package Index)\n",
    "- pip installer"
   ]
  },
  {
   "cell_type": "code",
   "execution_count": null,
   "metadata": {
    "slideshow": {
     "slide_type": "subslide"
    }
   },
   "outputs": [],
   "source": [
    "import antigravity"
   ]
  },
  {
   "cell_type": "markdown",
   "metadata": {
    "slideshow": {
     "slide_type": "slide"
    }
   },
   "source": [
    "## Python neologisms\n",
    "\n",
    "- the Python community has a number of made-up expressions\n",
    "- _Pythonic_: following Python's conventions, Python-like\n",
    "- _Pythonist_ or _Pythonista_: good Python programmer"
   ]
  },
  {
   "cell_type": "markdown",
   "metadata": {},
   "source": [
    "# Developing in Python\n",
    "\n",
    "## Notebooks\n",
    "\n",
    "- Jupyter\n",
    "- [JupyterLab](https://jupyterlab.readthedocs.io/en/stable/): Jupyter + IDE-like features\n",
    "- [Google Colab](https://colab.research.google.com): online notebook with GPU access\n",
    "\n",
    "## IDEs\n",
    "\n",
    "- [VSCode](https://code.visualstudio.com/): free, cross-platform, Python plugin, command line support\n",
    "- [PyCharm](https://www.jetbrains.com/pycharm/): free Community edition, cross-platform\n",
    "\n",
    "## Command line tools\n",
    "\n",
    "- [VIM](https://www.vim.org/) or [neovim](https://neovim.io/) + [tmux](https://github.com/tmux/tmux/wiki): small, runs everywhere, modal editing, steep learning curve, Python plugins, very mature\n",
    "    - VSCode and PyCharm have VIM editing mode\n",
    "- [Emacs](https://www.emacswiki.org/emacs/PythonProgrammingInEmacs): another CLI editor, built-in Python support"
   ]
  },
  {
   "cell_type": "markdown",
   "metadata": {},
   "source": [
    "## PEP8, the Python style guide\n",
    "\n",
    "- widely accepted style guide for Python\n",
    "- [PEP8](https://www.python.org/dev/peps/pep-0008/) by Guido himself, 2001\n",
    "\n",
    "Specifies:\n",
    "\n",
    "- indentation\n",
    "- line length\n",
    "- module imports\n",
    "- class names, function names etc.\n",
    "\n",
    "We shall use PEP8 throughout this course. You are expected to follow it in the homeworks."
   ]
  },
  {
   "cell_type": "markdown",
   "metadata": {
    "slideshow": {
     "slide_type": "slide"
    }
   },
   "source": [
    "# General properties of Python"
   ]
  },
  {
   "cell_type": "markdown",
   "metadata": {
    "slideshow": {
     "slide_type": "slide"
    }
   },
   "source": [
    "## Whitespaces\n",
    "\n",
    "Whitespace indentation instead of curly braces, no need for semicolons:"
   ]
  },
  {
   "cell_type": "code",
   "execution_count": null,
   "metadata": {},
   "outputs": [],
   "source": [
    "n = 12\n",
    "if n % 2 == 0:\n",
    "    print(\"n is even\")\n",
    "else:\n",
    "    print(\"n is odd\")"
   ]
  },
  {
   "cell_type": "markdown",
   "metadata": {
    "slideshow": {
     "slide_type": "slide"
    }
   },
   "source": [
    "## Dynamic typing\n",
    "\n",
    "Type checking is performed at run-time as opposed to compile-time (C++):"
   ]
  },
  {
   "cell_type": "code",
   "execution_count": null,
   "metadata": {},
   "outputs": [],
   "source": [
    "n = 2\n",
    "print(type(n))\n",
    "\n",
    "n = 2.1\n",
    "print(type(n))\n",
    "\n",
    "n = \"foo\"\n",
    "print(type(n))"
   ]
  },
  {
   "cell_type": "markdown",
   "metadata": {
    "slideshow": {
     "slide_type": "slide"
    }
   },
   "source": [
    "## Assignment\n",
    "\n",
    "Assignment differs from other imperative languages:\n",
    "\n",
    "- in C++ `i = 2` translates to _typed variable named i receives a copy of numeric value 2_\n",
    "- in Python `i = 2` translates to _name i receives a reference to object of numeric type of value 2_\n",
    "\n",
    "The built-in function `id` returns the object's id"
   ]
  },
  {
   "cell_type": "code",
   "execution_count": null,
   "metadata": {
    "slideshow": {
     "slide_type": "subslide"
    }
   },
   "outputs": [],
   "source": [
    "i = 2\n",
    "print(id(i))\n",
    "\n",
    "i = 3\n",
    "print(id(i))"
   ]
  },
  {
   "cell_type": "markdown",
   "metadata": {},
   "source": [
    "The `is` operator compares two objects' identities:"
   ]
  },
  {
   "cell_type": "code",
   "execution_count": null,
   "metadata": {
    "slideshow": {
     "slide_type": "subslide"
    }
   },
   "outputs": [],
   "source": [
    "a = 2\n",
    "b = a\n",
    "print(a is b)  # same as print(id(a) == id(b))"
   ]
  },
  {
   "cell_type": "markdown",
   "metadata": {},
   "source": [
    "String concatenation results in a new object:"
   ]
  },
  {
   "cell_type": "code",
   "execution_count": null,
   "metadata": {
    "slideshow": {
     "slide_type": "subslide"
    }
   },
   "outputs": [],
   "source": [
    "s = \"foo\"\n",
    "old_id = id(s)\n",
    "\n",
    "s += \"bar\"\n",
    "print(old_id == id(s))"
   ]
  },
  {
   "cell_type": "markdown",
   "metadata": {},
   "source": [
    "Numerical operations also result in new objects. We will talk about this in detail next week."
   ]
  },
  {
   "cell_type": "code",
   "execution_count": null,
   "metadata": {},
   "outputs": [],
   "source": [
    "a = 2\n",
    "b = a\n",
    "print(id(a) == id(b))\n",
    "a += 1\n",
    "print(a is b)"
   ]
  },
  {
   "cell_type": "markdown",
   "metadata": {},
   "source": [
    "Integers from -5 to 256 are preallocated since these numbers are used frequently.\n",
    "\n",
    "More information [here](https://github.com/satwikkansal/wtfPython#-is-is-not-what-it-is).\n",
    "\n",
    "More crazy stuff in [WTFPython](https://github.com/satwikkansal/wtfpython)"
   ]
  },
  {
   "cell_type": "code",
   "execution_count": null,
   "metadata": {},
   "outputs": [],
   "source": [
    "for n in range(-8, 0):\n",
    "    print(n, n is n + 1 - 1)\n",
    "    \n",
    "for n in range(253, 260):\n",
    "    print(n, n is n + 1 - 1)"
   ]
  },
  {
   "cell_type": "markdown",
   "metadata": {
    "slideshow": {
     "slide_type": "slide"
    }
   },
   "source": [
    "# Simple statements"
   ]
  },
  {
   "cell_type": "markdown",
   "metadata": {
    "slideshow": {
     "slide_type": "slide"
    }
   },
   "source": [
    "## Conditional expressions\n",
    "\n",
    "### if, elif, else"
   ]
  },
  {
   "cell_type": "code",
   "execution_count": null,
   "metadata": {},
   "outputs": [],
   "source": [
    "#n = int(input())\n",
    "n = 12\n",
    "\n",
    "if n < 0:\n",
    "    print(\"N is negative\")\n",
    "elif n > 0:\n",
    "    print(\"N is positive\")\n",
    "else:\n",
    "    print(\"N is neither positive nor negative\")"
   ]
  },
  {
   "cell_type": "markdown",
   "metadata": {
    "slideshow": {
     "slide_type": "subslide"
    }
   },
   "source": [
    "### Ternary conditional operator\n",
    "\n",
    "- one-line `if` statements\n",
    "- the order of operands is different from C's `?:` operator, the C version of abs would look like this\n",
    "\n",
    "~~~C\n",
    "int x = -2;\n",
    "int abs_x = x>=0 ? x : -x;\n",
    "~~~\n",
    "- should only be used for very short statements\n",
    "\n",
    "\n",
    "`<expr1> if <condition> else <expr2>`"
   ]
  },
  {
   "cell_type": "code",
   "execution_count": null,
   "metadata": {},
   "outputs": [],
   "source": [
    "n = -2\n",
    "abs_n = n if n >= 0 else -n\n",
    "abs_n"
   ]
  },
  {
   "cell_type": "markdown",
   "metadata": {
    "slideshow": {
     "slide_type": "slide"
    }
   },
   "source": [
    "## Lists\n",
    "\n",
    "- lists are the most frequently used built-in containers\n",
    "- basic operations: indexing, length, append, extend\n",
    "- lists will be covered in detail next week"
   ]
  },
  {
   "cell_type": "code",
   "execution_count": null,
   "metadata": {},
   "outputs": [],
   "source": [
    "l = []  # empty list\n",
    "l.append(2)\n",
    "l.append(2)\n",
    "l.append(\"foo\")\n",
    "\n",
    "len(l), l"
   ]
  },
  {
   "cell_type": "markdown",
   "metadata": {
    "slideshow": {
     "slide_type": "slide"
    }
   },
   "source": [
    "## Iteration\n",
    "\n",
    "### Iterating a list"
   ]
  },
  {
   "cell_type": "code",
   "execution_count": null,
   "metadata": {},
   "outputs": [],
   "source": [
    "for e in [\"foo\", \"bar\"]:\n",
    "    print(e)"
   ]
  },
  {
   "cell_type": "markdown",
   "metadata": {},
   "source": [
    "## `enumerate`: iterating with an index"
   ]
  },
  {
   "cell_type": "code",
   "execution_count": null,
   "metadata": {},
   "outputs": [],
   "source": [
    "for idx, element in enumerate([\"foo\", \"bar\"]):\n",
    "    print(idx, element)"
   ]
  },
  {
   "cell_type": "markdown",
   "metadata": {
    "slideshow": {
     "slide_type": "subslide"
    }
   },
   "source": [
    "## `range`: Iterating over a range of integers\n",
    "\n",
    "The same in C++:\n",
    "~~~C++\n",
    "for (int i=0; i<5; i++)\n",
    "    cout << i << endl;\n",
    "~~~\n",
    "\n",
    "By default `range` starts from 0."
   ]
  },
  {
   "cell_type": "code",
   "execution_count": null,
   "metadata": {},
   "outputs": [],
   "source": [
    "for i in range(5):\n",
    "    print(i)"
   ]
  },
  {
   "cell_type": "markdown",
   "metadata": {
    "slideshow": {
     "slide_type": "subslide"
    }
   },
   "source": [
    "Specifying the start of the range:"
   ]
  },
  {
   "cell_type": "code",
   "execution_count": null,
   "metadata": {
    "slideshow": {
     "slide_type": "-"
    }
   },
   "outputs": [],
   "source": [
    "for i in range(2, 5):\n",
    "    print(i)"
   ]
  },
  {
   "cell_type": "markdown",
   "metadata": {
    "slideshow": {
     "slide_type": "fragment"
    }
   },
   "source": [
    "Specifying the step. Note that in this case we need to specify all three positional arguments."
   ]
  },
  {
   "cell_type": "code",
   "execution_count": null,
   "metadata": {
    "slideshow": {
     "slide_type": "-"
    }
   },
   "outputs": [],
   "source": [
    "for i in range(0, 10, 2):\n",
    "    print(i)"
   ]
  },
  {
   "cell_type": "markdown",
   "metadata": {},
   "source": [
    "Negative values:"
   ]
  },
  {
   "cell_type": "code",
   "execution_count": null,
   "metadata": {},
   "outputs": [],
   "source": [
    "for i in range(-3, 0):\n",
    "    print(i)"
   ]
  },
  {
   "cell_type": "code",
   "execution_count": null,
   "metadata": {},
   "outputs": [],
   "source": [
    "for i in range(-3, 0, -1):\n",
    "    print(i)"
   ]
  },
  {
   "cell_type": "code",
   "execution_count": null,
   "metadata": {},
   "outputs": [],
   "source": [
    "for i in range(0, -3, -1):\n",
    "    print(i)"
   ]
  },
  {
   "cell_type": "markdown",
   "metadata": {
    "slideshow": {
     "slide_type": "slide"
    }
   },
   "source": [
    "## `break` and `continue`\n",
    "\n",
    "- `break`: allows early exit from a loop\n",
    "- `continue`: allows early jump to next iteration"
   ]
  },
  {
   "cell_type": "code",
   "execution_count": null,
   "metadata": {},
   "outputs": [],
   "source": [
    "for i in range(10):\n",
    "    if i % 2 == 0:\n",
    "        continue\n",
    "    print(i)"
   ]
  },
  {
   "cell_type": "code",
   "execution_count": null,
   "metadata": {
    "slideshow": {
     "slide_type": "subslide"
    }
   },
   "outputs": [],
   "source": [
    "for i in range(10):\n",
    "    if i > 4:\n",
    "        break\n",
    "    print(i)"
   ]
  },
  {
   "cell_type": "markdown",
   "metadata": {},
   "source": [
    "## `else`\n",
    "\n",
    "__`else`__ can be used with `for`:"
   ]
  },
  {
   "cell_type": "code",
   "execution_count": null,
   "metadata": {},
   "outputs": [],
   "source": [
    "numbers = [3, -1, 5, 3, 7]\n",
    "\n",
    "for n in numbers:\n",
    "    if n % 2 == 0:\n",
    "        break\n",
    "else:\n",
    "    print(\"Found no even numbers.\")"
   ]
  },
  {
   "cell_type": "markdown",
   "metadata": {
    "slideshow": {
     "slide_type": "slide"
    }
   },
   "source": [
    "## while"
   ]
  },
  {
   "cell_type": "code",
   "execution_count": null,
   "metadata": {},
   "outputs": [],
   "source": [
    "i = 0\n",
    "while i < 5:\n",
    "    print(i)\n",
    "    i += 1\n",
    "i"
   ]
  },
  {
   "cell_type": "markdown",
   "metadata": {},
   "source": [
    "There is no `do...while` loop in Python."
   ]
  },
  {
   "cell_type": "markdown",
   "metadata": {
    "slideshow": {
     "slide_type": "slide"
    }
   },
   "source": [
    "# Functions"
   ]
  },
  {
   "cell_type": "markdown",
   "metadata": {
    "slideshow": {
     "slide_type": "slide"
    }
   },
   "source": [
    "Functions can be defined using the `def` keyword:"
   ]
  },
  {
   "cell_type": "code",
   "execution_count": null,
   "metadata": {},
   "outputs": [],
   "source": [
    "def foo():\n",
    "    print(\"this is a function\")\n",
    "     \n",
    "foo()"
   ]
  },
  {
   "cell_type": "markdown",
   "metadata": {
    "slideshow": {
     "slide_type": "subslide"
    }
   },
   "source": [
    "## Function arguments\n",
    "\n",
    "1. positional\n",
    "2. named or keyword arguments\n",
    "\n",
    "Keyword arguments must follow positional arguments:"
   ]
  },
  {
   "cell_type": "code",
   "execution_count": null,
   "metadata": {},
   "outputs": [],
   "source": [
    "def foo(arg1, arg2, arg3):\n",
    "    print(\"arg1 \", arg1)\n",
    "    print(\"arg2 \", arg2)\n",
    "    print(\"arg3 \", arg3)\n",
    "    \n",
    "foo(1, 2, arg3=\"asdfs\")\n",
    "# foo(1, arg3=\"asdfs\", 2)  # raises SyntaxError"
   ]
  },
  {
   "cell_type": "code",
   "execution_count": null,
   "metadata": {},
   "outputs": [],
   "source": [
    "foo(1, arg3=2, arg2=29)"
   ]
  },
  {
   "cell_type": "markdown",
   "metadata": {
    "slideshow": {
     "slide_type": "subslide"
    }
   },
   "source": [
    "## Default arguments\n",
    "\n",
    "- arguments can have default values\n",
    "- default arguments must follow non-default arguments"
   ]
  },
  {
   "cell_type": "code",
   "execution_count": null,
   "metadata": {
    "scrolled": true
   },
   "outputs": [],
   "source": [
    "def foo(arg1, arg2, arg3=3):\n",
    "# def foo(arg1, arg2=2, arg3):  # raises SyntaxError\n",
    "    print(\"arg1 \", arg1)\n",
    "    print(\"arg2 \", arg2)\n",
    "    print(\"arg3 \", arg3)\n",
    "foo(1, 2)"
   ]
  },
  {
   "cell_type": "markdown",
   "metadata": {},
   "source": [
    "Default arguments need not be specified when calling the function"
   ]
  },
  {
   "cell_type": "code",
   "execution_count": null,
   "metadata": {},
   "outputs": [],
   "source": [
    "foo(1, 2)"
   ]
  },
  {
   "cell_type": "markdown",
   "metadata": {},
   "source": [
    "They can be specified in any order:"
   ]
  },
  {
   "cell_type": "code",
   "execution_count": null,
   "metadata": {},
   "outputs": [],
   "source": [
    "foo(arg1=1, arg3=33, arg2=222)"
   ]
  },
  {
   "cell_type": "markdown",
   "metadata": {
    "slideshow": {
     "slide_type": "subslide"
    }
   },
   "source": [
    "If more than one value has default arguments, either can be skipped:"
   ]
  },
  {
   "cell_type": "code",
   "execution_count": null,
   "metadata": {},
   "outputs": [],
   "source": [
    "def foo(arg1, arg2=2, arg3=3):\n",
    "    print(\"arg1 \", arg1)\n",
    "    print(\"arg2 \", arg2)\n",
    "    print(\"arg3 \", arg3)\n",
    "    \n",
    "foo(11, 33)\n",
    "print(\"\")\n",
    "foo(11, arg3=33)"
   ]
  },
  {
   "cell_type": "markdown",
   "metadata": {
    "slideshow": {
     "slide_type": "subslide"
    }
   },
   "source": [
    "This mechanism allows having a very large number of arguments.\n",
    "Many libraries have functions with dozens of arguments."
   ]
  },
  {
   "cell_type": "markdown",
   "metadata": {
    "slideshow": {
     "slide_type": "fragment"
    }
   },
   "source": [
    "The popular data analysis library `pandas` has functions with dozens of arguments, for example:\n",
    "\n",
    "~~~python\n",
    "pandas.read_csv(filepath_or_buffer, sep=',', delimiter=None, header='infer', names=None, index_col=None, usecols=None, squeeze=False, prefix=None, mangle_dupe_cols=True, dtype=None, engine=None, converters=None, true_values=None, false_values=None, skipinitialspace=False, skiprows=None, skipfooter=0, nrows=None, na_values=None, keep_default_na=True, na_filter=True, verbose=False, skip_blank_lines=True, parse_dates=False, infer_datetime_format=False, keep_date_col=False, date_parser=None, dayfirst=False, cache_dates=True, iterator=False, chunksize=None, compression='infer', thousands=None, decimal='.', lineterminator=None, quotechar='\"', quoting=0, doublequote=True, escapechar=None, comment=None, encoding=None, dialect=None, error_bad_lines=True, warn_bad_lines=True, delim_whitespace=False, low_memory=True, memory_map=False, float_precision=None)\n",
    " ~~~"
   ]
  },
  {
   "cell_type": "markdown",
   "metadata": {},
   "source": [
    "## Variable number of arguments\n",
    "\n",
    "__`args` and `kwargs`__\n",
    "\n",
    "- both positional and keyword arguments can be captured in arbitrary numbers using the `*` and `**` operators\n",
    "- positional arguments are captured in a tuple"
   ]
  },
  {
   "cell_type": "code",
   "execution_count": null,
   "metadata": {},
   "outputs": [],
   "source": [
    "def arbitrary_positional_f(*args):\n",
    "    print(type(args))\n",
    "    for arg in args:\n",
    "        print(arg)\n",
    "        \n",
    "arbitrary_positional_f(1, 2, -1)\n",
    "# arbitrary_positional_f(1, 2, arg=-1)  # raises TypeError"
   ]
  },
  {
   "cell_type": "markdown",
   "metadata": {},
   "source": [
    "Keyword arguments are captured in a dictionary:"
   ]
  },
  {
   "cell_type": "code",
   "execution_count": null,
   "metadata": {},
   "outputs": [],
   "source": [
    "def arbitrary_keyword_f(**kwargs):\n",
    "    print(type(kwargs))\n",
    "    for argname, value in kwargs.items():\n",
    "        print(argname, value)\n",
    "        \n",
    "arbitrary_keyword_f(arg1=1, arg2=12)\n",
    "# arbitrary_keyword_f(12, arg=12)  # TypeError"
   ]
  },
  {
   "cell_type": "markdown",
   "metadata": {},
   "source": [
    "We usually capture both:"
   ]
  },
  {
   "cell_type": "code",
   "execution_count": null,
   "metadata": {},
   "outputs": [],
   "source": [
    "def arbitrary_arg_f(*args, **kwargs):\n",
    "    if args:\n",
    "        print(\"Positional arguments\")\n",
    "        for arg in args:\n",
    "            print(arg)\n",
    "    else:\n",
    "        print(\"No positional arguments\")\n",
    "    if kwargs:\n",
    "        print(\"Keyword arguments\")\n",
    "        for argname, value in kwargs.items():\n",
    "            print(argname, value)\n",
    "    else:\n",
    "        print(\"No keyword arguments\")\n",
    "        \n",
    "arbitrary_arg_f()\n",
    "arbitrary_arg_f(12, -2, param1=\"foo\")"
   ]
  },
  {
   "cell_type": "markdown",
   "metadata": {
    "slideshow": {
     "slide_type": "slide"
    }
   },
   "source": [
    "## The return statement\n",
    "\n",
    "- functions may return more than one value\n",
    "  - a tuple of the values is returned\n",
    "- without an explicit return statement `None` is returned\n",
    "- an empty return statement returns `None`"
   ]
  },
  {
   "cell_type": "code",
   "execution_count": null,
   "metadata": {},
   "outputs": [],
   "source": [
    "def foo(n):\n",
    "    if n < 0:\n",
    "        return \"negative\"\n",
    "    if 0 <= n < 10:\n",
    "        return \"positive\", n\n",
    "    # return None\n",
    "    # return\n",
    "\n",
    "print(foo(-2))\n",
    "print(foo(3), type(foo(3)))\n",
    "print(foo(12))"
   ]
  },
  {
   "cell_type": "markdown",
   "metadata": {},
   "source": [
    "# Exception handling\n",
    "\n",
    "Fully typed exception handling:"
   ]
  },
  {
   "cell_type": "code",
   "execution_count": null,
   "metadata": {},
   "outputs": [],
   "source": [
    "try:\n",
    "    int(\"abc\")\n",
    "except ValueError as e:\n",
    "    print(type(e), e)\n",
    "    print(e)"
   ]
  },
  {
   "cell_type": "markdown",
   "metadata": {},
   "source": [
    "More than one except clauses may be defined ordered from more specific to least specific:"
   ]
  },
  {
   "cell_type": "code",
   "execution_count": null,
   "metadata": {},
   "outputs": [],
   "source": [
    "try:\n",
    "    age = int(input())\n",
    "    if age < 0:\n",
    "        raise Exception(\"Age cannot be negative\")\n",
    "except ValueError as e:\n",
    "    print(\"ValueError caught\")\n",
    "except Exception as e:\n",
    "    print(\"Other exception caught: {}\".format(type(e)))"
   ]
  },
  {
   "cell_type": "markdown",
   "metadata": {},
   "source": [
    "## More than one type of exception can be handled in the same except clause"
   ]
  },
  {
   "cell_type": "code",
   "execution_count": null,
   "metadata": {},
   "outputs": [],
   "source": [
    "def age_printer(age):\n",
    "    next_age = age + 1\n",
    "    print(\"Next year your age will be \" + next_age)\n",
    "    \n",
    "try:\n",
    "    your_age = input()\n",
    "    your_age = int(your_age)\n",
    "    age_printer(your_age)\n",
    "except ValueError:\n",
    "    print(\"ValueError caught\")\n",
    "except TypeError:\n",
    "    print(\"TypeError caught\")\n",
    "\n",
    "def age_printer(age):\n",
    "    next_age = age + 1\n",
    "    print(\"Next year your age will be \" + next_age)\n",
    "    \n",
    "try:\n",
    "    your_age = input()\n",
    "    your_age = int(your_age)\n",
    "    age_printer(your_age)\n",
    "except (ValueError, TypeError) as e:\n",
    "    print(\"{} caught\".format(type(e).__name__))"
   ]
  },
  {
   "cell_type": "markdown",
   "metadata": {},
   "source": [
    "## `except` without an exception type\n",
    "\n",
    "- without specifying a type, `except` catches everything but all information about the exception is lost"
   ]
  },
  {
   "cell_type": "code",
   "execution_count": null,
   "metadata": {},
   "outputs": [],
   "source": [
    "try:\n",
    "    age = int(input())\n",
    "    if age < 0:\n",
    "        raise Exception(\"Age cannot be negative\")\n",
    "except ValueError:\n",
    "    print(\"ValueError caught\")\n",
    "except:\n",
    "#except Exception as e:\n",
    "    print(\"Something else caught\")"
   ]
  },
  {
   "cell_type": "markdown",
   "metadata": {},
   "source": [
    "- the empty `except` must be the last except block since it blocks all others\n",
    "- `SyntaxError` otherwise"
   ]
  },
  {
   "cell_type": "code",
   "execution_count": null,
   "metadata": {},
   "outputs": [],
   "source": [
    "try:\n",
    "    age = int(input())\n",
    "    if age < 0:\n",
    "        raise Exception(\"Age cannot be negative\")\n",
    "#except:\n",
    "    #print(\"Something else caught\")\n",
    "except ValueError:\n",
    "    print(\"ValueError caught\")"
   ]
  },
  {
   "cell_type": "markdown",
   "metadata": {},
   "source": [
    "## Base class' except clauses catch derived classes too\n",
    "\n",
    "`ValueError` subclasses `Exception` so the second `except` never runs:"
   ]
  },
  {
   "cell_type": "code",
   "execution_count": null,
   "metadata": {},
   "outputs": [],
   "source": [
    "try:\n",
    "    age = int(input())\n",
    "    if age < 0:\n",
    "        raise Exception(\"Age cannot be negative\")\n",
    "except Exception as e:\n",
    "    print(\"Exception caught: {}\".format(type(e)))\n",
    "except ValueError:\n",
    "    print(\"ValueError caught\")"
   ]
  },
  {
   "cell_type": "markdown",
   "metadata": {},
   "source": [
    "## `finally`\n",
    "\n",
    "The `finally` block is guaranteed to run regardless an exception was raised or not"
   ]
  },
  {
   "cell_type": "code",
   "execution_count": null,
   "metadata": {},
   "outputs": [],
   "source": [
    "try:\n",
    "    age = int(input())\n",
    "except Exception as e:\n",
    "    print(type(e), e)\n",
    "finally:\n",
    "    print(\"this always runs\")"
   ]
  },
  {
   "cell_type": "markdown",
   "metadata": {},
   "source": [
    "## `else`\n",
    "\n",
    "Try-except blocks may have an `else` clause that **only** runs if no exception was raised"
   ]
  },
  {
   "cell_type": "code",
   "execution_count": null,
   "metadata": {},
   "outputs": [],
   "source": [
    "try:\n",
    "    age = int(input())\n",
    "except ValueError as e:\n",
    "    print(\"Exception\", e)\n",
    "else:\n",
    "    print(\"No exception was raised\")\n",
    "    # raise Exception(\"Raising an exception in else\")\n",
    "finally:\n",
    "    print(\"this always runs\")"
   ]
  },
  {
   "cell_type": "markdown",
   "metadata": {},
   "source": [
    "### `raise` keyword\n",
    "\n",
    "- `raise` throws/raises an exception\n",
    "- an empty `raise` in an `except` block reraises the exception"
   ]
  },
  {
   "cell_type": "code",
   "execution_count": null,
   "metadata": {},
   "outputs": [],
   "source": [
    "try:\n",
    "    int(\"not a number\")\n",
    "except Exception:\n",
    "    # important log message\n",
    "    # raise\n",
    "    pass"
   ]
  },
  {
   "cell_type": "markdown",
   "metadata": {},
   "source": [
    "### Defining exceptions\n",
    "\n",
    "Any type that subclasses `Exception` (`BaseException` to be exact) can be used as an exception object:"
   ]
  },
  {
   "cell_type": "code",
   "execution_count": null,
   "metadata": {},
   "outputs": [],
   "source": [
    "class NegativeAgeError(Exception):\n",
    "    pass\n",
    "\n",
    "try:\n",
    "    age = int(input())\n",
    "    if age < 0:\n",
    "        raise NegativeAgeError(\"Age cannot be negative. Invalid age: {}\".format(age))\n",
    "except NegativeAgeError as e:\n",
    "    print(e)\n",
    "except Exception as e:\n",
    "    print(\"Something else happened. Caught {}, with message {}\".format(type(e), e))"
   ]
  },
  {
   "cell_type": "markdown",
   "metadata": {},
   "source": [
    "Using exception for trial-and-error is considered _Pythonic_:"
   ]
  },
  {
   "cell_type": "code",
   "execution_count": null,
   "metadata": {},
   "outputs": [],
   "source": [
    "try:\n",
    "    v = input()\n",
    "    int(v)\n",
    "except ValueError:\n",
    "    print(\"not an int\")\n",
    "else:\n",
    "    print(\"looks like an int\")"
   ]
  },
  {
   "cell_type": "markdown",
   "metadata": {
    "slideshow": {
     "slide_type": "slide"
    }
   },
   "source": [
    "# Zen of Python"
   ]
  },
  {
   "cell_type": "code",
   "execution_count": null,
   "metadata": {},
   "outputs": [],
   "source": [
    "import this"
   ]
  }
 ],
 "metadata": {
  "kernelspec": {
   "display_name": "Python 3",
   "language": "python",
   "name": "python3"
  },
  "language_info": {
   "codemirror_mode": {
    "name": "ipython",
    "version": 3
   },
   "file_extension": ".py",
   "mimetype": "text/x-python",
   "name": "python",
   "nbconvert_exporter": "python",
   "pygments_lexer": "ipython3",
   "version": "3.7.6"
  },
  "toc": {
   "base_numbering": 1,
   "nav_menu": {},
   "number_sections": true,
   "sideBar": true,
   "skip_h1_title": false,
   "title_cell": "Table of Contents",
   "title_sidebar": "Contents",
   "toc_cell": false,
   "toc_position": {},
   "toc_section_display": true,
   "toc_window_display": true
  }
 },
 "nbformat": 4,
 "nbformat_minor": 2
}
